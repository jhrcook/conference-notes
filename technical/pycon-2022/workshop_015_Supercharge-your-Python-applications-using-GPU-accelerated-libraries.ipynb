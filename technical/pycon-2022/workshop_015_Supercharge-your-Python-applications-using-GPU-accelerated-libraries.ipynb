{
 "cells": [
  {
   "cell_type": "markdown",
   "id": "3a474d3e-035e-48b2-abae-7f1cde9532bf",
   "metadata": {},
   "source": [
    "# Sponsor Workshop: Supercharge Your Python applications using GPU-accelerated Libraries (Sponsor: Nvidia)\n",
    "\n",
    "presenter: Leo Fang (leof@nvidia.com)  \n",
    "link: https://us.pycon.org/2022/schedule/presentation/175/  \n",
    "date: April 28, 2022\n",
    "\n",
    "> Advances in AI Modeling, Data Science, Signal Processing, HPC, and even Quantum Computing demand parallelization and new programming models.\n",
    "> Learn about NVIDIA’s latest programming advancements which support core Python libraries and offer easier prototyping, graphics, and simulation functions, to help you get to production faster.\n",
    "> Finally, we'll present cuQuantum, NVIDIA's quantum computing simulation SDK, and how it can be used to accelerate quantum information science.\n",
    ">\n",
    "> NVIDIA’s enhancements to existing libraries help developers automatically leverage GPU-acceleration with little or no porting effort.\n",
    "> We’ll present a comparison of standard functions versus NVIDIA enhanced functions, which help supercharge your Python applications today!"
   ]
  },
  {
   "cell_type": "markdown",
   "id": "a3703412-0781-48c3-8d3a-03dd3be1f273",
   "metadata": {},
   "source": [
    "## Setup"
   ]
  },
  {
   "cell_type": "code",
   "execution_count": null,
   "id": "868cf1db-f8e9-490a-9624-186d89b84550",
   "metadata": {},
   "outputs": [],
   "source": [
    "# %load_ext autoreload\n",
    "# %autoreload 2"
   ]
  },
  {
   "cell_type": "code",
   "execution_count": null,
   "id": "775077a2-cd8b-4e08-a70c-b883b523c674",
   "metadata": {},
   "outputs": [],
   "source": [
    "# Imports\n",
    "..."
   ]
  },
  {
   "cell_type": "code",
   "execution_count": null,
   "id": "b38c5b27-fdfa-4bdc-9be1-dd184d143dc9",
   "metadata": {},
   "outputs": [],
   "source": [
    "# Setup\n",
    "# %config InlineBackend.figure_format = \"retina\""
   ]
  },
  {
   "cell_type": "markdown",
   "id": "b8208e61-e76c-4397-a369-95799c170e9e",
   "metadata": {},
   "source": [
    "## Notes"
   ]
  },
  {
   "cell_type": "markdown",
   "id": "bbc52add-5529-4644-9169-96d1db2402e3",
   "metadata": {},
   "source": [
    "### RAPIDS vs. PyDATA\n",
    "\n",
    "- there are many Nvidia-owned replacements for standard data science projects\n",
    "    - e.g. numpy = cuNumeric and pandas = cuDF\n",
    "- Nvidia also contributes to other open source projects (e.g. dask, numba)\n",
    "- the RAPIDS packages try to map to the known APIs in other packages\n",
    "\n",
    "(There is a slide with links for getting started with the various RAPIDS libraries.)"
   ]
  },
  {
   "cell_type": "markdown",
   "id": "31e8db4f-a084-4ec8-b3f0-6c37d6670140",
   "metadata": {},
   "source": [
    "### CUDA Python\n",
    "\n",
    "- purpose: act as a safer interface with CUDA running on the GPU\n",
    "    - aviods have multiple libraries running simultaneously and getting their CUDA streams crossed\n",
    "- there are a lot more RAPIDS libraries coming..."
   ]
  },
  {
   "cell_type": "markdown",
   "id": "49d72d7b-21fc-40a2-978b-b62602141152",
   "metadata": {},
   "source": [
    "### CUTLASS\n",
    "\n",
    "- C++ template lib to write high-performance matrix multiplication code for NVIDIA GPUs\n",
    "- \"CUTLASS Python\" is a Python API for CUTLASS"
   ]
  },
  {
   "cell_type": "markdown",
   "id": "91408f4a-145c-48c4-865c-297bb5290284",
   "metadata": {},
   "source": [
    "### Python wheel support\n",
    "\n",
    "- currently need to install CUDA driver separately for the system\n",
    "    - cannot `pip install cuda`\n",
    "    - means extra steps for install TF or PyTorch\n",
    "- may be able to get `pip install` in the future with changes to Python packaging system"
   ]
  },
  {
   "cell_type": "markdown",
   "id": "093c6b5f-fcea-4d9a-8767-89b134214fda",
   "metadata": {},
   "source": [
    "### cuQuantum\n",
    "\n",
    "- GPU accelerated lib for quantum computing\n",
    "- low-level lib for higher-level quantum circuit simulators\n",
    "    - used by higher-level libs like Cirq, Qiskit, and Pennylane"
   ]
  },
  {
   "cell_type": "markdown",
   "id": "a09ce62f-883d-4329-9eb0-0bacfa5bac4a",
   "metadata": {},
   "source": [
    "### cuNumeric (still in alpha)\n",
    "\n",
    "- replacement for Numpy with GPU support\n",
    "    - same API as numpy \n",
    "    - automatic parallelism and acceleration for multi-GPU, multi-node systems\n",
    "    - scales to 1,000s of GPUs"
   ]
  },
  {
   "cell_type": "markdown",
   "id": "8dc76044-ca33-4f08-8cd9-da2825d91911",
   "metadata": {},
   "source": [
    "### Omniverse/Warp\n",
    "\n",
    "- Python JIT compiler\n",
    "    - similar use to to Numba (write normal Python code and conversions are done automatically)\n",
    "- targeted to graphics and simulation community\n",
    "- runs on x86 CPUs or NVIDIA GPUs\n",
    "- *is fully differentiable*\n",
    "    - biggest difference with Numba\n",
    "    - can be used in workflows that require calculating a gradient"
   ]
  },
  {
   "cell_type": "markdown",
   "id": "84df9749-4352-411c-a8c3-9fde2be84868",
   "metadata": {},
   "source": [
    "### Consortium for Python data API standards\n",
    "\n",
    "- standards for array APIs are available\n",
    "- WIP for standard for dataframe"
   ]
  },
  {
   "cell_type": "markdown",
   "id": "2286c0b3-dc11-4804-8a1f-d6d9143a95b8",
   "metadata": {},
   "source": [
    "---"
   ]
  },
  {
   "cell_type": "code",
   "execution_count": 1,
   "id": "46d96d0c-bcf1-438a-9856-5b1d5b33d9d8",
   "metadata": {},
   "outputs": [
    {
     "name": "stdout",
     "output_type": "stream",
     "text": [
      "Last updated: 2022-04-28\n",
      "\n",
      "Python implementation: CPython\n",
      "Python version       : 3.10.4\n",
      "IPython version      : 8.2.0\n",
      "\n",
      "Compiler    : Clang 12.0.1 \n",
      "OS          : Darwin\n",
      "Release     : 21.4.0\n",
      "Machine     : x86_64\n",
      "Processor   : i386\n",
      "CPU cores   : 4\n",
      "Architecture: 64bit\n",
      "\n",
      "Hostname: JHCookMac.local\n",
      "\n",
      "Git branch: pycon2022\n",
      "\n"
     ]
    }
   ],
   "source": [
    "%load_ext watermark\n",
    "%watermark -d -u -v -iv -b -h -m"
   ]
  },
  {
   "cell_type": "code",
   "execution_count": null,
   "id": "66e6d6b9-ff15-4490-b3b1-f14e37245d53",
   "metadata": {},
   "outputs": [],
   "source": []
  }
 ],
 "metadata": {
  "kernelspec": {
   "display_name": "Python 3 (ipykernel)",
   "language": "python",
   "name": "python3"
  },
  "language_info": {
   "codemirror_mode": {
    "name": "ipython",
    "version": 3
   },
   "file_extension": ".py",
   "mimetype": "text/x-python",
   "name": "python",
   "nbconvert_exporter": "python",
   "pygments_lexer": "ipython3",
   "version": "3.10.4"
  }
 },
 "nbformat": 4,
 "nbformat_minor": 5
}
