{
 "cells": [
  {
   "cell_type": "markdown",
   "id": "8c9d7060-7635-4e49-9404-dd6a03ee98f5",
   "metadata": {},
   "source": [
    "# Day 2 Talks\n",
    "\n",
    "April 30, 2022"
   ]
  },
  {
   "cell_type": "markdown",
   "id": "f1dfcd95-411c-4c07-a3ca-d9a9e34ea775",
   "metadata": {},
   "source": [
    "## Setup"
   ]
  },
  {
   "cell_type": "code",
   "execution_count": 1,
   "id": "868cf1db-f8e9-490a-9624-186d89b84550",
   "metadata": {},
   "outputs": [],
   "source": [
    "# %load_ext autoreload\n",
    "# %autoreload 2"
   ]
  },
  {
   "cell_type": "code",
   "execution_count": 2,
   "id": "775077a2-cd8b-4e08-a70c-b883b523c674",
   "metadata": {},
   "outputs": [],
   "source": [
    "# Imports\n",
    "..."
   ]
  },
  {
   "cell_type": "code",
   "execution_count": 3,
   "id": "b38c5b27-fdfa-4bdc-9be1-dd184d143dc9",
   "metadata": {},
   "outputs": [],
   "source": [
    "# Setup\n",
    "# %config InlineBackend.figure_format = \"retina\""
   ]
  },
  {
   "cell_type": "markdown",
   "id": "0920e9cf-dd80-491c-8c20-4304ca9d2b91",
   "metadata": {
    "tags": []
   },
   "source": [
    "## Using Python for Disease Variant Analysis\n",
    "\n",
    "presenter: Atia Binte Amin  \n",
    "link: https://us.pycon.org/2022/schedule/presentation/113/\n",
    "\n",
    "> Variant, a term once only known to the researchers of biological sciences, is now quite familiar to the general people.\n",
    "> Rising of the new variants of SARS-Cov2 virus with novel mutations have become a topic of concern during this COVID-19 pandemic.\n",
    "> How do the researchers identify these variants from the analysis of genomics data? How could Python be used in this analysis?\n",
    "> This talk will address these questions. \n",
    "> \n",
    "> Mutations in any organism are usually identified after performing a Next Generation Sequence analysis experiment named variant calling.\n",
    "> Variant calling generates the output in a specialized file format called Variant Call Format (VCF) file.\n",
    "> VCF file carries the meta data and the information of thousands of mutations and is generally large in size.\n",
    "> Thus, it is challenging to extract information and identify mutations from this file, especially when there are hundreds of samples.\n",
    "> The Python package scikit-allel provides utilities for exploring this large-scale genetic variation data in VCF file and helps to identify important mutations from the downstream analysis.\n",
    "> This package depends on scipy, matplotlib, seaborn, pandas, scikit-learn, h5py and zarr.\n",
    "> After identifying the mutations, the next step is the visualization of the mutations in a meaningful way.\n",
    "> This task might be simpler for a small size virus like SARS-Cov2, but complicated for eukaryotic organisms with multiple chromosomes like mouse or human.\n",
    "> Another python package QMplot is handy and useful for the visualization of thousands of mutations in each chromosome, making the interpretation of the extracted mutations easier for the biologists.\n",
    "> This package uses numpy, scipy, pandas and matplotlib."
   ]
  },
  {
   "cell_type": "markdown",
   "id": "46b7c719-3177-409e-bf5e-c490a17c3811",
   "metadata": {},
   "source": [
    "- alignment of reads to reference genome\n",
    "    - outputs a BAM (\"binary alignment map\")\n",
    "- use variant callers to identify variants from the BAM\n",
    "    - GATK, FreeBayes, DeepCaller\n",
    "    - outputs a VCF\n",
    "    - there are errors in the sequencing that need to be accounted for\n",
    "    - `scikit-allel`: Python package to explore VCF files\n",
    "- annotate variants\n",
    "    - `Varcode`: Python package for variant annotation\n",
    "        - can provide custom variant data base\n",
    "        - creates objects for each variant with the relevant information about the gene and effect on gene product\n",
    "- visualization of variants\n",
    "    - `qmplot`: Python packages for making plots\n",
    "    - `CMplot`: more advanced visualizations (R package)"
   ]
  },
  {
   "cell_type": "markdown",
   "id": "5233db32-3cf3-4f1c-890e-ff1adf18bbae",
   "metadata": {
    "tags": []
   },
   "source": [
    "## Hooking into the import system\n",
    "\n",
    "presenter: Fred Phillips  \n",
    "link: https://us.pycon.org/2022/schedule/presentation/76/\n",
    "\n",
    "> Import hooks and the import system in general is an under-used and under-documented resource within Python.\n",
    "> This talk will introduce the audience to the import system, how it works, and how it can be adapted for their needs.\n",
    "> We will build a simple import hook that can inspect what is being imported, and go on to demonstrate how we can use the import system to load Python modules from a database and how to reload files on disk immediately as they are changed."
   ]
  },
  {
   "cell_type": "markdown",
   "id": "d196f821-1b9a-4120-b6ee-3aa504ddc0d9",
   "metadata": {},
   "source": [
    "### Intro to Python import system\n",
    "- two main steps:\n",
    "    1. finding: discover code to import\n",
    "        - `builtinImporter`: imports built-in modules\n",
    "        - `FrozenImporter`: for bootstrapping importing system before `import` is available\n",
    "        - `PathFinder`: finds paths to modules\n",
    "    1. loading: executing the code and bringing into env\n",
    "- `PathFinder`:\n",
    "    - has a specific list of \"finders\" to search for a module\n",
    "    - searched in order"
   ]
  },
  {
   "cell_type": "markdown",
   "id": "0bb647a2-c7a8-4d5b-8220-1d3d9e49bffa",
   "metadata": {},
   "source": [
    "### Import hook system\n",
    "\n",
    "- to add a custom finder, add to the list `sys.meta_path`:\n",
    "\n",
    "```python\n",
    "import importlib\n",
    "import sys\n",
    "\n",
    "class MyFinder(importlib.abc.MetaPathFinder):\n",
    "    ...\n",
    "    \n",
    "    \n",
    "sys.meta_path.insert(0, MyFinder())\n",
    "```"
   ]
  },
  {
   "cell_type": "markdown",
   "id": "2e9c6f13-ab0b-48f2-9579-04be5e71605e",
   "metadata": {},
   "source": [
    "### Uses\n",
    "\n",
    "1. \"blocklist\"\n",
    "    - prevent user from importing certain modules\n",
    "    - meant to help less-experienced users\n",
    "1. \"database loader\"\n",
    "    - for loading files from places other than the local disk\n",
    "    - save modules in a db and import from there\n",
    "    - useful for quickly adding changes to modules for use in production\n",
    "        - as easy as saving to a db\n",
    "    - can maintain multiple versions of a module and import specific versions"
   ]
  },
  {
   "cell_type": "markdown",
   "id": "9cd57479-a3f7-4f04-8cc0-cf14fee76b64",
   "metadata": {
    "tags": []
   },
   "source": [
    "## Flexible ML Experiment Tracking System for Python Coders with DVC and Streamlit\n",
    "\n",
    "presenter: Antoine Toubhans  \n",
    "link: https://us.pycon.org/2022/schedule/presentation/87/\n",
    "\n",
    "> There are so many tools to do data science today that it can be difficult to navigate.\n",
    "> Many of them are AI platforms that \"do everything by clicking on a UI\" and do not leverage pre-existing tools e.g., GIT for versioning, or good old python IDE instead of Jupyter Notebooks.\n",
    "> On the other hand, ML engineering is not classical software engineering:\n",
    "> \n",
    "> - in addition to the code, the data should also be versioned;\n",
    "> - in its essence, ML engineering is an exploratory work: one can not know if the model is going to work before testing it;\n",
    "> - there is no clear way to guarantee the quality of the trained model: the data-scientist has to play with it to make it \"talk\".\n",
    "> \n",
    "> In this talk, we will build a fully customizable and complete system in python to track Machine Learning experiments.\n",
    "> For the purpose of this talk, we will train a neural network (Tensorflow) to classify images between cat and dog, though, the main focus is on the tooling and not the ML algorithm.\n",
    "> We will use:\n",
    "> \n",
    "> - **DVC** (Data Version Control) to 1) version the data alongside the code with GIT 2) build training pipelines to orchestrate the python scripts 3) version experiments.\n",
    "> - **Streamlit** to build data exploration apps to play with the trained models.\n",
    "> Both DVC and Streamlit are open-source libraries with python APIs.\n",
    "> \n",
    "> In the second part of the talk, we will focus on various ways of combining DVC and Streamlit.\n",
    "> For instance, we will see how to build a Streamlit app that allows selecting any trained model tracked with DVC (provided its GIT commit), loading it, and testing it on given input images."
   ]
  },
  {
   "cell_type": "markdown",
   "id": "bb5d4f8c-e5ea-493a-bd50-ba56f26ddd03",
   "metadata": {},
   "source": [
    "- challenges of ML engineering vs. traditional software engineering\n",
    "    - track data\n",
    "    - exploration\n",
    "    - track progress and compare models\n",
    "    - reproducibility and the ability to return to previous versions\n",
    "- DVC (data version control)\n",
    "    - Python package; pip installed\n",
    "    - track large files that are too big for git\n",
    "        - replaces the large files with smaller meta data files\n",
    "        - similar interface as git\n",
    "    - has a pipeline feature\n",
    "        - defined in a YAML format\n",
    "        - indicate command to run, dependencies, and outputs\n",
    "        - tracks output automatically\n",
    "        - caching mechanism that tracks changes to dependencies\n",
    "    - good for a replacement to a bash script that run a series of scripts for downloading and processing data\n",
    "- R&D is a non-linear workflow\n",
    "    - unlike traditional software engineering\n",
    "    - DVC has features for tracking experiments in a non-linear way\n",
    "        - can store and explore model performance\n",
    "        - the experiments are listed under the parent commit\n",
    "            - the parameters may change in each experiment, but the underlying code has not changed (so under the same parent commit)\n",
    "    - `dvc` can be imported and used to read history and logged results\n",
    "        - `dvc_repo_info = dvc.repo.Repo(\".\")`\n",
    "- used Streamlit for interface with investigating the model and results"
   ]
  },
  {
   "cell_type": "markdown",
   "id": "ffc63f66-0b86-41f7-8735-f5e3dd406a1d",
   "metadata": {
    "tags": []
   },
   "source": [
    "## (Professionally) Coding with Others\n",
    "\n",
    "presenter: William Morrell  \n",
    "link: https://us.pycon.org/2022/schedule/presentation/103/\n",
    "\n",
    "> A mix of tools and practices to incorporate for facilitating collaboration between developers.\n",
    "> As a nice side-effect, these also let past-you help future-you work on entirely solo projects.\n",
    "> Topics include:\n",
    ">\n",
    "> - Documentation, specifically calling out a README and contributor guidelines, and site generators à la Sphinx or MkDocs\n",
    "> - Version control / git, collecting changes in logical commits, writing good commit and pull request messages\n",
    "> - Auto-lint and formatting: pre-commit, black, isort, flake8\n",
    "> - Dependency management: pyenv, pipenv/poetry, Docker"
   ]
  },
  {
   "cell_type": "markdown",
   "id": "f7e7369e-2614-48b0-bb2e-9e52323c74d3",
   "metadata": {},
   "source": [
    "### Documentation\n",
    "\n",
    "- README file\n",
    "- site generation\n",
    "    - PyCon 2021 talk: \"Static Site with Sphinx and Markdown\"\n",
    "\n",
    "### Version control\n",
    "\n",
    "- git\n",
    "\n",
    "```bash\n",
    "# git undo button\n",
    "git reset HEAD~\n",
    "\n",
    "# select specific lines of a file to commit\n",
    "git add --patch  # or -p\n",
    "\n",
    "# fix merge conflicts by selecting which branch to keep\n",
    "git checkout --ours/--theirs\n",
    "\n",
    "# pick specific commits to put at the head of your branch\n",
    "git cherry-pick [HASH]\n",
    "\n",
    "# take changes from the `main` branch and stick your\n",
    "# branch to the top\n",
    "git rebase -i [REF]\n",
    "```\n",
    "\n",
    "### Code quality tools\n",
    "\n",
    "- readability, maintainability, catches bugs\n",
    "- linters:\n",
    "    - identify potential errors or anti-patterns\n",
    "- formatters:\n",
    "    - identify and *fix* \"problems\" in the code\n",
    "    - `isort`\n",
    "    - upgrade tools: `2to3` and `pyupgrade`\n",
    "- where to run these tools:\n",
    "    - standalone commands\n",
    "    - IDE\n",
    "    - with project tests\n",
    "    - CI\n",
    "    - `pre-commit`\n",
    "\n",
    "### Pull requests\n",
    "\n",
    "- bring in the human component to code quality\n",
    "\n",
    "### Dependency management\n",
    "\n",
    "- pinning deps.\n",
    "- presenter recommends using `poetry`\n",
    "    - wraps `pip` and provides some security features\n",
    "- containers with Docker for managing all dependencies including non-Python ones\n",
    "    - checkout blog posts on [pythonspeed.com/docker/](pythonspeed.com/docker/)"
   ]
  },
  {
   "cell_type": "markdown",
   "id": "2384aca9-59b6-476b-8a40-918ac3bc2e9a",
   "metadata": {
    "tags": []
   },
   "source": [
    "## Write Docs Devs Love: Ten Tips To Level Up Your Tech Writing\n",
    "\n",
    "presenter: Mason Egger  \n",
    "link: https://us.pycon.org/2022/schedule/presentation/173/\n",
    "\n",
    "> Think of that feeling you get when you follow an online tutorial or documentation and the code works on the first run.\n",
    "> Now think of all the hours spent wasted following broken, outdated, or incomplete documentation.\n",
    "> From our favorite tutorials to bad product docs we all consume technical writing.\n",
    "> Tutorials, blog posts, and product docs help developers learn new things, build projects, and debug issues.\n",
    "> But what makes one tutorial better than another?\n",
    "> In this talk I'll discuss how you can write the documentation that developers love and I'll share 10 tips and tricks to improve your technical writing."
   ]
  },
  {
   "cell_type": "markdown",
   "id": "13a3c5e9-fcc1-4f68-8047-45132b2bb3f2",
   "metadata": {},
   "source": [
    "1. make the end goal clear\n",
    "    - the point of the tutorial/page\n",
    "    - \"Here we will use X to do Y.\"\n",
    "    - make it very obvious what will be accomplished\n",
    "1. be concise\n",
    "    - need not use SAT words\n",
    "    - remember readers may not be native English speakers\n",
    "    - aim for relatively-low reading level (3rd grade)\n",
    "1. use inclusive language\n",
    "    - avoid demeaning terms like \"noobs\" or \"10x dev\"\n",
    "    - avoid \"easily,\" \"simple,\" \"obvious,\" etc.\n",
    "1. limit technical jargon\n",
    "    - depends on audience (internal team vs. general public)\n",
    "1. define all acronyms\n",
    "1. avoid memes/idioms and regional language\n",
    "    - depends on audience\n",
    "1. use meaningful code samples and variable names\n",
    "    - show, don't tell\n",
    "    - include everything that is required to run the code\n",
    "        - e.g. `import` statements\n",
    "    - include a full copy of the code\n",
    "1. avoid making your readers leave your docs\n",
    "    - links to other websites\n",
    "    - if you need to send them away, give them a way to come back\n",
    "    - perhaps list pre-requisites at the top with links on how to do them\n",
    "        - avoid having to leave part way through the body of the tutorial\n",
    "1. make the content \"scannable\"\n",
    "    - users tend not to read everything\n",
    "    - make it easy to find a single piece of info\n",
    "    - headings and subheadings or other visual breaks\n",
    "    - add a Table of Contents\n",
    "    - use consistent styling\n",
    "1. verify your instructions\n",
    "    - add tests and other verifications\n",
    "    - incorrect doc is worse than no doc"
   ]
  },
  {
   "cell_type": "markdown",
   "id": "1eeb5ca6-d463-44bd-84da-a56a25ed3678",
   "metadata": {
    "tags": []
   },
   "source": [
    "## Writing Functional Code in Python\n",
    "\n",
    "presenter: Vic Kumar  \n",
    "link: https://us.pycon.org/2022/schedule/presentation/80/\n",
    "\n",
    "> In this talk, we'll define exactly what functional programming is and how it helps us.\n",
    "> We'll explore the main concepts from functional programming and see how we can apply them to our Python code going over some concrete examples.\n",
    "> \n",
    "> **WHAT IS REFERENTIAL TRANSPARENCY (3 MIN)**\n",
    "> We'll look at how we can prove if a function is pure or not, and what the implications are of writing our code more explicitly.\n",
    "> We'll look at an existing snippet of code that uses mutation and how we can transform such a function into one that is referentially transparent.\n",
    "> \n",
    "> **HANDLING EMPTINESS: THE OPTION MONAD (7 MIN)**\n",
    "> We'll go over a concrete example of using branching logic and nested ifs to check for emptiness.\n",
    "> Again, we'll transform this code by using the Option monad and make our code more readable and robust.\n",
    "> \n",
    "> **HANDLING EXCEPTIONS: THE TRY MONAD (7 MIN)**\n",
    "> We'll take a look at dealing with exceptions using the `try..except` syntax.\n",
    "> We'll change this to using the Try monad and see how our code reads from left-to-right and how we can make the side-effects of our functions more explicit to the caller.\n",
    "> \n",
    "> **HANDLING ASYNCHRONOUS CALLS: THE FUTURE MONAD (8 MIN)**\n",
    "> We'll take an example which uses threads and processes and change it into an example that uses the Future monad.\n",
    "> Along the way, we'll see how we can more explicitly handle asynchronous behaviors and their effects.\n",
    "> \n",
    "> **CONCLUSIONS AND TAKEAWAYS (3 MIN)**\n",
    "> We'll conclude by looking at the pros and cons of functional programming and where we can use it in our Python code."
   ]
  },
  {
   "cell_type": "markdown",
   "id": "add747a9-9797-4729-bc74-0a2b0a16a56c",
   "metadata": {},
   "source": [
    "- functional programming (FP): construct programs using only *pure* functions\n",
    "    - functions that have no side effects\n",
    "    - side effects examples: modifying a var, modifying a data structure in place, setting a field of an object\n",
    "    - *referential transparency* requirement for all functions\n",
    "        - follow standard mathematical principles"
   ]
  },
  {
   "cell_type": "code",
   "execution_count": 4,
   "id": "f25cb0e4-4516-4f0c-9023-577705f51446",
   "metadata": {},
   "outputs": [],
   "source": [
    "# Not referentially transparent.\n",
    "\n",
    "\n",
    "def add_numbers(numbers: list[int]) -> int:\n",
    "    total = 0  # problem: total is not always 0\n",
    "    for num in numbers:\n",
    "        total += num\n",
    "    return total"
   ]
  },
  {
   "cell_type": "code",
   "execution_count": 5,
   "id": "f2b389d9-899a-4cbf-9bff-31092ab798a9",
   "metadata": {},
   "outputs": [],
   "source": [
    "# Referentially transparent.\n",
    "\n",
    "from functools import reduce\n",
    "\n",
    "\n",
    "def add_numbers_2(numbers: list[int]) -> int:\n",
    "    return reduce(lambda a, b: a + b, numbers)"
   ]
  },
  {
   "cell_type": "markdown",
   "id": "23c84788-bbf1-424c-a4d9-7895b435d87a",
   "metadata": {},
   "source": [
    "- some difficulties of functional programming is dealing with `None`s\n",
    "    - solve using `pyeffects` library to introduce `Option` classes\n",
    "    - instead of dealing with `if/else` control flow and branching logic, functional code reads left-to-right\n",
    "- exceptions:\n",
    "    - using a `try`/`except` block results in an impure function\n",
    "        - the function signature wouldn't indicate that it could fail\n",
    "    - return a `Try` class that can be a `Success` or `Failure`\n",
    "        - now the function is pure\n",
    "    - makes handling errors more explicit than the current Python system"
   ]
  },
  {
   "cell_type": "markdown",
   "id": "5a5ce84d-60ec-466c-900e-f7ca186c3f86",
   "metadata": {
    "tags": []
   },
   "source": [
    "## The Model Review: improving transparency, reproducibility, & knowledge sharing using MLflow\n",
    "\n",
    "presenter: Jes Ford  \n",
    "link: https://us.pycon.org/2022/schedule/presentation/68/\n",
    "\n",
    "> Code Review is an integral part of software development, but many teams don’t have similar processes in place for the development and deployment of Machine Learning (ML) models.\n",
    "> I will motivate the decision to create a Model Review process, starting from the principles of transparency, reproducibility, and knowledge sharing.\n",
    "> MLflow is a useful Python package to help simplify and automate much of the tracking necessary to create detailed records of machine learning experiments.\n",
    "> Much of this talk will be spent introducing this tool, and demonstrating the core MLflow Tracking functionality.\n",
    "> I’ll discuss how my team is currently running a Model Review process for any ML models that we push to production, and how we use MLflow to streamline this work and learn from each other."
   ]
  },
  {
   "cell_type": "markdown",
   "id": "22e88a55-3c69-49b1-a218-bbd70862d1df",
   "metadata": {},
   "source": [
    "[MLFlow](https://mlflow.org/)\n",
    "\n",
    "- model review system\n",
    "    - goals\n",
    "        1. transparency and record keeping of what was deployed\n",
    "        1. reproducibility\n",
    "        1. format for knowledge sharing\n",
    "    - to track:\n",
    "        - model perforamcne\n",
    "        - what data was used\n",
    "        - entire ML process (including failed experiments)\n",
    "    - cannot track all of these with a standard code review\n",
    "- MLFlow: platform for managing the end-to-end machine learning lifecycle\n",
    "    - parts:\n",
    "        - tracking\n",
    "        - projects\n",
    "        - models\n",
    "        - registry: manage model lifecycle\n",
    "    - language and ML tool agnositc\n",
    "    - can log anything you want to track\n",
    "        - parameters, metrics, files (or \"artifacts\"), version of code, training data\n",
    "\n",
    "Simple example:\n",
    "\n",
    "```python\n",
    "impoprt mlflow\n",
    "\n",
    "mlflow.log_param(\"param-name\", 0)\n",
    "mlflow.log_metric(\"metric-name\", 1)\n",
    "mlflow.end_run()\n",
    "```\n",
    "\n",
    "Or use a context manager:\n",
    "\n",
    "```python\n",
    "with mlflow.start_run(run_name=\"log-artifacts\"):\n",
    "    ...\n",
    "```\n",
    "\n",
    "- can see results in a GUI\n",
    "    - bash command: `mlflow ui`\n",
    "- can log data locally or to a remote server\n",
    "    - more info in docs\n",
    "- `mlflow` has a `sklearn`-specific module for tracking the model itself\n",
    "    - pickles the model and saves it with conda and pip requirements files\n",
    "    - also saves an MLFlow model that can be used later\n",
    "- MLFlow UI has a notes section\n",
    "- auto-logging model training:\n",
    "    - automatic tracking of different types of models (check out list of supported modeling frameworks)\n",
    "        - Sci-kit Learn, TF, PyTorch\n",
    "    - tracks parameters, metrics, and even some evaluation plots\n",
    "- integrating MLFlow for the team:\n",
    "    1. common model-training process used by the entire team\n",
    "    1. build MLFlow parameters, metric, other artifacts into the infrastructure so they are used automatically\n",
    "    1. use the notes section reliably\n",
    "    1. review the model before deployment"
   ]
  },
  {
   "cell_type": "markdown",
   "id": "2286c0b3-dc11-4804-8a1f-d6d9143a95b8",
   "metadata": {},
   "source": [
    "---"
   ]
  },
  {
   "cell_type": "code",
   "execution_count": 6,
   "id": "46d96d0c-bcf1-438a-9856-5b1d5b33d9d8",
   "metadata": {},
   "outputs": [
    {
     "name": "stdout",
     "output_type": "stream",
     "text": [
      "Last updated: 2022-04-30\n",
      "\n",
      "Python implementation: CPython\n",
      "Python version       : 3.10.4\n",
      "IPython version      : 8.2.0\n",
      "\n",
      "Compiler    : Clang 12.0.1 \n",
      "OS          : Darwin\n",
      "Release     : 21.4.0\n",
      "Machine     : x86_64\n",
      "Processor   : i386\n",
      "CPU cores   : 4\n",
      "Architecture: 64bit\n",
      "\n",
      "Hostname: JHCookMac.local\n",
      "\n",
      "Git branch: pycon2022\n",
      "\n"
     ]
    }
   ],
   "source": [
    "%load_ext watermark\n",
    "%watermark -d -u -v -iv -b -h -m"
   ]
  },
  {
   "cell_type": "code",
   "execution_count": null,
   "id": "8d1e9cc7-3ba4-478b-95b8-10f0601add27",
   "metadata": {},
   "outputs": [],
   "source": []
  }
 ],
 "metadata": {
  "kernelspec": {
   "display_name": "Python 3 (ipykernel)",
   "language": "python",
   "name": "python3"
  },
  "language_info": {
   "codemirror_mode": {
    "name": "ipython",
    "version": 3
   },
   "file_extension": ".py",
   "mimetype": "text/x-python",
   "name": "python",
   "nbconvert_exporter": "python",
   "pygments_lexer": "ipython3",
   "version": "3.10.4"
  }
 },
 "nbformat": 4,
 "nbformat_minor": 5
}
