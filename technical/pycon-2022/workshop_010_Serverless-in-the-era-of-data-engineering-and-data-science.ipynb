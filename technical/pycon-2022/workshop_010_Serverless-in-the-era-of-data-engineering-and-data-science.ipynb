{
 "cells": [
  {
   "cell_type": "markdown",
   "id": "3a474d3e-035e-48b2-abae-7f1cde9532bf",
   "metadata": {},
   "source": [
    "# Sponsor Workshop: Serverless in the era of data engineering and data science\n",
    "\n",
    "presenters: Varad Meru, Shreya Batra, & Skyler Hartle  \n",
    "link: https://us.pycon.org/2022/schedule/presentation/125/  \n",
    "date: April 28, 2022\n",
    "\n",
    "> Join the Azure Functions team as they share insights on how they are seeing data science, data engineering and serverless technologies come together to power the next generation of data tools.\n",
    "> Learn more about the key investments Microsoft has planned for serverless Python workloads.\n",
    "> The Azure Functions team invites the Python community to help shape the future of serverless technologies at Microsoft and would love to hear perspectives, opinions, and questions."
   ]
  },
  {
   "cell_type": "markdown",
   "id": "a3703412-0781-48c3-8d3a-03dd3be1f273",
   "metadata": {},
   "source": [
    "## Setup"
   ]
  },
  {
   "cell_type": "code",
   "execution_count": null,
   "id": "868cf1db-f8e9-490a-9624-186d89b84550",
   "metadata": {},
   "outputs": [],
   "source": [
    "# %load_ext autoreload\n",
    "# %autoreload 2"
   ]
  },
  {
   "cell_type": "code",
   "execution_count": null,
   "id": "775077a2-cd8b-4e08-a70c-b883b523c674",
   "metadata": {},
   "outputs": [],
   "source": [
    "# Imports\n",
    "..."
   ]
  },
  {
   "cell_type": "code",
   "execution_count": null,
   "id": "b38c5b27-fdfa-4bdc-9be1-dd184d143dc9",
   "metadata": {},
   "outputs": [],
   "source": [
    "# Setup\n",
    "# %config InlineBackend.figure_format = \"retina\""
   ]
  },
  {
   "cell_type": "markdown",
   "id": "b8208e61-e76c-4397-a369-95799c170e9e",
   "metadata": {},
   "source": [
    "## Notes"
   ]
  },
  {
   "cell_type": "markdown",
   "id": "e55d69e8-2b4e-4463-95d6-3987f239a05a",
   "metadata": {},
   "source": [
    "### Intro to serverless\n",
    "\n",
    "- \"serverless\" computing:\n",
    "    1. no infrastructure management\n",
    "    1. \"instant, event-driven scalability\"\n",
    "    1. \"pay-per-use\"\n",
    "- the term \"serverless\" has different definitions by each cloud provider\n",
    "- \"function\": code to run triggered by some \"event\" (e.g. HTTP requests, other functions)"
   ]
  },
  {
   "cell_type": "markdown",
   "id": "3a49660e-4acf-4aa5-a5fe-ff89c73cdec0",
   "metadata": {},
   "source": [
    "### Trends in Python\n",
    "\n",
    "1. data analysis one of the most common uses of Python\n",
    "1. growth in data-related workloads and severless platforms"
   ]
  },
  {
   "cell_type": "markdown",
   "id": "7edc2b02-7fbe-42c0-9114-8f577f5a401a",
   "metadata": {},
   "source": [
    "### Common function scenarios\n",
    "\n",
    "- automation of scheduled tasks\n",
    "    - doing a repetitive, temporary task at a known interval\n",
    "- IoT-connected backends\n",
    "    - respond to a message from an IoT device when needed\n",
    "- Real-time streaming (shown in a demo)"
   ]
  },
  {
   "cell_type": "markdown",
   "id": "4a9807d5-58d3-44e0-b5c1-5358101d5497",
   "metadata": {},
   "source": [
    "### Real-time streaming demo\n",
    "\n",
    "- \"Tweet analyzer\": process and analyze a Tweet when it is created\n",
    "    - trigger: every 15 minutes\n",
    "\n",
    "(Systems within VS Code for running Azure stuff locally.)"
   ]
  },
  {
   "cell_type": "markdown",
   "id": "364471c2-44f1-4bc5-a182-adc95b584544",
   "metadata": {},
   "source": [
    "### What are we working on? (we = Azure Python dev team\")\n",
    "\n",
    "- \"pystein\": new Azure functions python programming model\n",
    "    - decorator-based\n",
    "    - no config file (just a single file total)\n",
    "        - configuration goes in the function decorators"
   ]
  },
  {
   "cell_type": "markdown",
   "id": "2286c0b3-dc11-4804-8a1f-d6d9143a95b8",
   "metadata": {},
   "source": [
    "---"
   ]
  },
  {
   "cell_type": "code",
   "execution_count": 1,
   "id": "46d96d0c-bcf1-438a-9856-5b1d5b33d9d8",
   "metadata": {},
   "outputs": [
    {
     "name": "stdout",
     "output_type": "stream",
     "text": [
      "Last updated: 2022-04-28\n",
      "\n",
      "Python implementation: CPython\n",
      "Python version       : 3.10.4\n",
      "IPython version      : 8.2.0\n",
      "\n",
      "Compiler    : Clang 12.0.1 \n",
      "OS          : Darwin\n",
      "Release     : 21.4.0\n",
      "Machine     : x86_64\n",
      "Processor   : i386\n",
      "CPU cores   : 4\n",
      "Architecture: 64bit\n",
      "\n",
      "Hostname: JHCookMac.local\n",
      "\n",
      "Git branch: pycon2022\n",
      "\n"
     ]
    }
   ],
   "source": [
    "%load_ext watermark\n",
    "%watermark -d -u -v -iv -b -h -m"
   ]
  },
  {
   "cell_type": "code",
   "execution_count": null,
   "id": "ee80f6a4-269d-4e03-b2e9-007beaf867f1",
   "metadata": {},
   "outputs": [],
   "source": []
  }
 ],
 "metadata": {
  "kernelspec": {
   "display_name": "Python 3 (ipykernel)",
   "language": "python",
   "name": "python3"
  },
  "language_info": {
   "codemirror_mode": {
    "name": "ipython",
    "version": 3
   },
   "file_extension": ".py",
   "mimetype": "text/x-python",
   "name": "python",
   "nbconvert_exporter": "python",
   "pygments_lexer": "ipython3",
   "version": "3.10.4"
  }
 },
 "nbformat": 4,
 "nbformat_minor": 5
}
