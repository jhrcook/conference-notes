{
 "cells": [
  {
   "cell_type": "markdown",
   "id": "3a474d3e-035e-48b2-abae-7f1cde9532bf",
   "metadata": {},
   "source": [
    "# Presentation type: Title\n",
    "\n",
    "presenter: John Doe  \n",
    "link: www.some-link.com  \n",
    "date: April 28, 2022\n",
    "\n",
    "> Copy the description here..."
   ]
  },
  {
   "cell_type": "markdown",
   "id": "a3703412-0781-48c3-8d3a-03dd3be1f273",
   "metadata": {},
   "source": [
    "## Setup"
   ]
  },
  {
   "cell_type": "code",
   "execution_count": null,
   "id": "868cf1db-f8e9-490a-9624-186d89b84550",
   "metadata": {},
   "outputs": [],
   "source": [
    "# %load_ext autoreload\n",
    "# %autoreload 2"
   ]
  },
  {
   "cell_type": "code",
   "execution_count": null,
   "id": "775077a2-cd8b-4e08-a70c-b883b523c674",
   "metadata": {},
   "outputs": [],
   "source": [
    "# Imports\n",
    "..."
   ]
  },
  {
   "cell_type": "code",
   "execution_count": null,
   "id": "b38c5b27-fdfa-4bdc-9be1-dd184d143dc9",
   "metadata": {},
   "outputs": [],
   "source": [
    "# Setup\n",
    "# %config InlineBackend.figure_format = \"retina\""
   ]
  },
  {
   "cell_type": "markdown",
   "id": "b8208e61-e76c-4397-a369-95799c170e9e",
   "metadata": {},
   "source": [
    "## Notes"
   ]
  },
  {
   "cell_type": "code",
   "execution_count": null,
   "id": "0151509c-b77c-49fa-b317-9905e2974753",
   "metadata": {},
   "outputs": [],
   "source": []
  },
  {
   "cell_type": "code",
   "execution_count": null,
   "id": "61dd5445-b16d-4400-bf4a-93214eca80b2",
   "metadata": {},
   "outputs": [],
   "source": []
  },
  {
   "cell_type": "code",
   "execution_count": null,
   "id": "9576f010-2b78-463f-ab78-140afae630b7",
   "metadata": {},
   "outputs": [],
   "source": []
  },
  {
   "cell_type": "code",
   "execution_count": null,
   "id": "9d72f96c-1c9d-49fc-8ea4-2ff332380e41",
   "metadata": {},
   "outputs": [],
   "source": []
  },
  {
   "cell_type": "code",
   "execution_count": null,
   "id": "9839c674-a0ee-426e-a47f-2fa4e931d75f",
   "metadata": {},
   "outputs": [],
   "source": []
  },
  {
   "cell_type": "code",
   "execution_count": null,
   "id": "7d520076-9f79-498e-919e-61ef8292139c",
   "metadata": {},
   "outputs": [],
   "source": []
  },
  {
   "cell_type": "markdown",
   "id": "2286c0b3-dc11-4804-8a1f-d6d9143a95b8",
   "metadata": {},
   "source": [
    "---"
   ]
  },
  {
   "cell_type": "code",
   "execution_count": null,
   "id": "46d96d0c-bcf1-438a-9856-5b1d5b33d9d8",
   "metadata": {},
   "outputs": [],
   "source": [
    "%load_ext watermark\n",
    "%watermark -d -u -v -iv -b -h -m"
   ]
  }
 ],
 "metadata": {
  "kernelspec": {
   "display_name": "Python 3 (ipykernel)",
   "language": "python",
   "name": "python3"
  },
  "language_info": {
   "codemirror_mode": {
    "name": "ipython",
    "version": 3
   },
   "file_extension": ".py",
   "mimetype": "text/x-python",
   "name": "python",
   "nbconvert_exporter": "python",
   "pygments_lexer": "ipython3",
   "version": "3.10.4"
  }
 },
 "nbformat": 4,
 "nbformat_minor": 5
}
