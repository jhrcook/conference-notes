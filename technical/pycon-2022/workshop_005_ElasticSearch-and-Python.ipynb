{
 "cells": [
  {
   "cell_type": "markdown",
   "id": "3a474d3e-035e-48b2-abae-7f1cde9532bf",
   "metadata": {},
   "source": [
    "# Sponsored Workshop: ElasticSearch and Python, a match made in heaven (Sponsor: Sentry)\n",
    "\n",
    "presenters: Anton Pirker & Ahmed Etefy  \n",
    "link: https://us.pycon.org/2022/schedule/presentation/168/  \n",
    "date: April 28, 2022  \n",
    "\n",
    "> We will show you how you can use Python to effortlessly ingest a lot of data into ElasticSearch and leverage the power of ElasticSearch and Kibana to visualize your data.\n",
    "> You will no longer have a data lake where your data goes to die, but rather be able to make insightful realizations, and discoveries on. \n",
    "> \n",
    "> After this workshop you will be able to send all your data to ElasticSearch and create beautiful dashboards in Kibana to discover the hidden treasures in your data."
   ]
  },
  {
   "cell_type": "markdown",
   "id": "a3703412-0781-48c3-8d3a-03dd3be1f273",
   "metadata": {},
   "source": [
    "## Setup"
   ]
  },
  {
   "cell_type": "code",
   "execution_count": null,
   "id": "868cf1db-f8e9-490a-9624-186d89b84550",
   "metadata": {},
   "outputs": [],
   "source": [
    "# %load_ext autoreload\n",
    "# %autoreload 2"
   ]
  },
  {
   "cell_type": "code",
   "execution_count": null,
   "id": "775077a2-cd8b-4e08-a70c-b883b523c674",
   "metadata": {},
   "outputs": [],
   "source": [
    "# Imports\n",
    "..."
   ]
  },
  {
   "cell_type": "code",
   "execution_count": null,
   "id": "b38c5b27-fdfa-4bdc-9be1-dd184d143dc9",
   "metadata": {},
   "outputs": [],
   "source": [
    "# Setup\n",
    "# %config InlineBackend.figure_format = \"retina\""
   ]
  },
  {
   "cell_type": "markdown",
   "id": "b8208e61-e76c-4397-a369-95799c170e9e",
   "metadata": {},
   "source": [
    "## Notes"
   ]
  },
  {
   "cell_type": "markdown",
   "id": "aaa3058e-16ba-4f63-bf34-ff2c6a42c34b",
   "metadata": {},
   "source": [
    "### Theory"
   ]
  },
  {
   "cell_type": "markdown",
   "id": "7f4b19a1-c93d-499d-b9fd-71fd4d896cf9",
   "metadata": {},
   "source": [
    "- \"ElasticSearch\" vs. \"Elastic\"\n",
    "    - \"Elastic\" is the private company\n",
    "    - \"ElasticSearch\" is the open source code\n",
    "- open source:\n",
    "    - \"Elastic Search\"\n",
    "    - \"LogStash\": specific logging framework with extra data and functions\n",
    "    - \"Kibana\": dashboard for \"ElaasticSearch\"\n",
    "- all of these pieces form the \"Elastic Stack\"\n",
    "    - is open source\n",
    "- deployment\n",
    "    - \"Amazon OpenSearch\": Amazon made a wrapper around \"Elastic Stack\"\n",
    "    - \"Elastic Cloud\": hosted by \"Elastic\" co., fancier than Amazon's\n",
    "- enterprise:\n",
    "    - \"Enterprise Search\": an enterprise layer\n",
    "    - \"Observability\"\n",
    "    - \"Security\""
   ]
  },
  {
   "cell_type": "markdown",
   "id": "ec4d2f02-62e2-4fc9-8f9f-f47d39990263",
   "metadata": {},
   "source": [
    "- focus this talk on \"ElasticSearch\" and \"Kibanna\"\n",
    "- \"ElasticSearch\"\n",
    "    - built for scaling\n",
    "    - run on a cluster\n",
    "    - will break up the index onto different nodes\n",
    "    - often overkill for most projects"
   ]
  },
  {
   "cell_type": "markdown",
   "id": "3d31b04d-2ee7-4e0d-a346-1e17e0a38095",
   "metadata": {},
   "source": [
    "- Elasticsearch vs. a relational db\n",
    "    - option A: use Postgres for storage and search\n",
    "    - option B: use Postgres for storage and Elasticsearch for search\n",
    "- no option for Elasticsearch for storage"
   ]
  },
  {
   "cell_type": "markdown",
   "id": "2a32b766-d082-4db9-9140-d087fcbf4702",
   "metadata": {},
   "source": [
    "- pros of Elasticsearch:\n",
    "    1. fast, insightful search automatically\n",
    "        - scores each doc. based on the query\n",
    "        - robust against typos\n",
    "        - automatically breaks down a doc. intelligentally to make search fast\n",
    "            - called the \"ingestion\" process\n",
    "        - phonetic spelling\n",
    "    1. scalability\n",
    "    1. no rigid schema (like would be used in a relational db)\n",
    "    1. high-dim. handled well\n",
    "        - don't run into combinatorial issues when many data fields\n",
    "- when to use Prostgres for \"full text search\" (FTS)\n",
    "    1. simpler needs\n",
    "    1. no need for a full cluster to maintain\n",
    "    1. Postgresql is well built and safe\n",
    "    1. can be just as fast as Elasticsearch in simpler cases\n",
    "- presenters advocate for the hybrid approach"
   ]
  },
  {
   "cell_type": "markdown",
   "id": "c6fbd149-2b8a-410f-b224-cb0c188eb602",
   "metadata": {},
   "source": [
    "### Notes on the demo\n",
    "\n",
    "- helper function to ingest documents in bulk\n",
    "    - makes adding Elastisearch to an existing app very easy"
   ]
  },
  {
   "cell_type": "markdown",
   "id": "8b5ccbfc-eb79-4668-967c-9182ebcc2b68",
   "metadata": {},
   "source": [
    "### Kibana"
   ]
  },
  {
   "cell_type": "markdown",
   "id": "a8c5d0e6-f18a-4170-a9cc-8133f0fc6d3a",
   "metadata": {},
   "source": [
    "- difference between *explanatory* and *exploratory* data viz\n",
    "    - exploratory: asking general questions about the data\n",
    "    - explanatory: have a point to make and present\n",
    "- easily create data viz\n",
    "    - drag-and-drop interface"
   ]
  },
  {
   "cell_type": "markdown",
   "id": "73ecad34-dc65-430d-a7ea-327d5e045599",
   "metadata": {},
   "source": [
    "Sentry Happy Hour: April 29th, Quartars Arcade Bar, 6pm"
   ]
  },
  {
   "cell_type": "markdown",
   "id": "c4e7d544-01e8-4178-b6b8-b5b93e74c86f",
   "metadata": {},
   "source": []
  },
  {
   "cell_type": "markdown",
   "id": "5fe853f1-2c7d-4864-ab1d-1a39185c86dc",
   "metadata": {},
   "source": []
  },
  {
   "cell_type": "markdown",
   "id": "31a9ef34-9ac2-492b-9450-274b8a900acb",
   "metadata": {},
   "source": []
  },
  {
   "cell_type": "markdown",
   "id": "2286c0b3-dc11-4804-8a1f-d6d9143a95b8",
   "metadata": {},
   "source": [
    "---"
   ]
  },
  {
   "cell_type": "code",
   "execution_count": null,
   "id": "46d96d0c-bcf1-438a-9856-5b1d5b33d9d8",
   "metadata": {},
   "outputs": [],
   "source": [
    "%load_ext watermark\n",
    "%watermark -d -u -v -iv -b -h -m"
   ]
  }
 ],
 "metadata": {
  "kernelspec": {
   "display_name": "Python 3 (ipykernel)",
   "language": "python",
   "name": "python3"
  },
  "language_info": {
   "codemirror_mode": {
    "name": "ipython",
    "version": 3
   },
   "file_extension": ".py",
   "mimetype": "text/x-python",
   "name": "python",
   "nbconvert_exporter": "python",
   "pygments_lexer": "ipython3",
   "version": "3.10.4"
  }
 },
 "nbformat": 4,
 "nbformat_minor": 5
}
