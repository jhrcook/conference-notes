{
 "cells": [
  {
   "cell_type": "markdown",
   "id": "ffff8da7-b6d1-4576-a84f-d13982af3c7f",
   "metadata": {},
   "source": [
    "# Day 1 Talks\n",
    "\n",
    "April 29, 2022"
   ]
  },
  {
   "cell_type": "markdown",
   "id": "f1dfcd95-411c-4c07-a3ca-d9a9e34ea775",
   "metadata": {},
   "source": [
    "## Setup"
   ]
  },
  {
   "cell_type": "code",
   "execution_count": 1,
   "id": "868cf1db-f8e9-490a-9624-186d89b84550",
   "metadata": {},
   "outputs": [],
   "source": [
    "# %load_ext autoreload\n",
    "# %autoreload 2"
   ]
  },
  {
   "cell_type": "code",
   "execution_count": 2,
   "id": "775077a2-cd8b-4e08-a70c-b883b523c674",
   "metadata": {},
   "outputs": [],
   "source": [
    "# Imports\n",
    "..."
   ]
  },
  {
   "cell_type": "code",
   "execution_count": 3,
   "id": "b38c5b27-fdfa-4bdc-9be1-dd184d143dc9",
   "metadata": {},
   "outputs": [],
   "source": [
    "# Setup\n",
    "# %config InlineBackend.figure_format = \"retina\""
   ]
  },
  {
   "cell_type": "markdown",
   "id": "3a474d3e-035e-48b2-abae-7f1cde9532bf",
   "metadata": {
    "tags": []
   },
   "source": [
    "## Python Oddities Explained\n",
    "\n",
    "presenter: Trey Hunner  \n",
    "link: https://us.pycon.org/2022/schedule/presentation/31/  \n",
    "\n",
    "> A number of Python features often seem counter-intuitive at first glance, especially when moving from another programming language to Python.\n",
    "> Often what at first seems like a bug, will later reveal itself to be a misunderstood feature.\n",
    "> \n",
    "> During this talk we'll look at a number of Python's unique features and quirks and attempt to re-shape our mental models of Python to better match reality.\n",
    "> By the end of this talk you'll have a deeper understanding of Python's rules behind objects, scope, and variables.\n",
    "> \n",
    "> Warning: this talk will include many Python head-scratchers so show up prepared to think on your feet!"
   ]
  },
  {
   "cell_type": "code",
   "execution_count": 4,
   "id": "5da4f5c7-a4d3-4f6b-87b7-7f1c523c21ca",
   "metadata": {},
   "outputs": [
    {
     "name": "stdout",
     "output_type": "stream",
     "text": [
      "64 8\n"
     ]
    }
   ],
   "source": [
    "x = 0\n",
    "for x in [1, 2, 8]:\n",
    "    y = x**2\n",
    "print(y, x)"
   ]
  },
  {
   "cell_type": "markdown",
   "id": "9f343d0c-52ae-4261-ad0c-3e67cfd8d008",
   "metadata": {},
   "source": [
    "- has an interesting example of weird behavior and errors when assigning variables in local vs. global scope\n",
    "    - *cannot* assign to a global var, only local\n",
    "    - *can* modify global vars\n",
    "- some examples of mutability\n",
    "    - can have unexpected behavior with reference values\n",
    "    - can have multiple vars pointing to same object\n",
    "    - can modify a list in a tuple\n",
    "    - can append a list to itself\n",
    "        - only works because a list holds a *reference* to an object\n",
    "    - ambiguity about what \"change\" means to a Python variability"
   ]
  },
  {
   "cell_type": "code",
   "execution_count": 5,
   "id": "b5b906f3-8fee-4dd2-a077-336fa393c502",
   "metadata": {},
   "outputs": [
    {
     "data": {
      "text/plain": [
       "[[...]]"
      ]
     },
     "execution_count": 5,
     "metadata": {},
     "output_type": "execute_result"
    }
   ],
   "source": [
    "# append a list to itself\n",
    "my_list = []\n",
    "my_list.append(my_list)\n",
    "my_list"
   ]
  },
  {
   "cell_type": "markdown",
   "id": "5eea1a9f-080f-40da-b2a4-5314ab9036e9",
   "metadata": {},
   "source": [
    "Can add a tuple to a list, gets appended to the list:"
   ]
  },
  {
   "cell_type": "code",
   "execution_count": 6,
   "id": "c46cab20-ed17-421e-a46e-19afa8fcbda1",
   "metadata": {},
   "outputs": [
    {
     "data": {
      "text/plain": [
       "[1, 2, 3, 4]"
      ]
     },
     "execution_count": 6,
     "metadata": {},
     "output_type": "execute_result"
    }
   ],
   "source": [
    "first_list = [1, 2]\n",
    "first_tuple = (3, 4)\n",
    "first_list += first_tuple\n",
    "first_list"
   ]
  },
  {
   "cell_type": "markdown",
   "id": "60a8063b-bfcc-414d-a6f4-9eb45c05dddc",
   "metadata": {},
   "source": [
    "Cannot add a list to a tuple:\n",
    "\n",
    "```python\n",
    "first_tuple += first_list\n",
    "#> TypeError: can only concatenate tuple (not \"list\") to tuple\n",
    "```"
   ]
  },
  {
   "cell_type": "markdown",
   "id": "5c94548c-2843-4d28-9335-5b672b04abee",
   "metadata": {},
   "source": [
    "- recommends embracing duck typing and being comfortable with more generic terms:\n",
    "    - iterable, hashable, mapping, etc."
   ]
  },
  {
   "cell_type": "markdown",
   "id": "e1bd9480-75a1-4e71-a63f-c701317f3568",
   "metadata": {},
   "source": [
    "- weird behavior with in-place addition:\n",
    "    - \"augmented assignment\"\n",
    "    - allows for *mutation* if possible (e.g. for lists, but not tuple)"
   ]
  },
  {
   "cell_type": "code",
   "execution_count": 7,
   "id": "cd44282a-39d8-4dc7-add1-7c3fb86fd188",
   "metadata": {},
   "outputs": [
    {
     "data": {
      "text/plain": [
       "([0, 2], [0, 2])"
      ]
     },
     "execution_count": 7,
     "metadata": {},
     "output_type": "execute_result"
    }
   ],
   "source": [
    "# in-place addition results in mutation if possible\n",
    "l1 = l2 = [0]\n",
    "l1 += [2]\n",
    "l1, l2"
   ]
  },
  {
   "cell_type": "code",
   "execution_count": 8,
   "id": "f3a0e2dd-fc30-49dc-a684-0ad92acc0de5",
   "metadata": {},
   "outputs": [
    {
     "data": {
      "text/plain": [
       "([0, 0], [0, 0])"
      ]
     },
     "execution_count": 8,
     "metadata": {},
     "output_type": "execute_result"
    }
   ],
   "source": [
    "l1 = l2 = [0]\n",
    "l1 += l2\n",
    "l1, l2"
   ]
  },
  {
   "cell_type": "code",
   "execution_count": 9,
   "id": "eefd18b1-cb1a-4f88-ad62-5b6e7a1677d6",
   "metadata": {},
   "outputs": [
    {
     "data": {
      "text/plain": [
       "([0, 0], [0])"
      ]
     },
     "execution_count": 9,
     "metadata": {},
     "output_type": "execute_result"
    }
   ],
   "source": [
    "l1 = l2 = [0]\n",
    "l1 = l1 + l2\n",
    "l1, l2"
   ]
  },
  {
   "cell_type": "markdown",
   "id": "57871265-ffac-44a5-b8cc-49651c149388",
   "metadata": {},
   "source": [
    "- take a look at `#pythonoddity` on Twitter for more of these"
   ]
  },
  {
   "cell_type": "markdown",
   "id": "300707de-573b-4b0b-9631-ee7b63f78b5e",
   "metadata": {
    "tags": []
   },
   "source": [
    "## Finding Penguins with a Snake: Linux Features for a Python User\n",
    "\n",
    "presenter: Mario Corchero    \n",
    "link: https://us.pycon.org/2022/schedule/presentation/40/  \n",
    "\n",
    "> Python has APIs that allow developers to use Linux features that many are often unaware of.\n",
    "> If you are a modest Linux/Unix user and want to learn some features of the OS through the APIs that Python offers, this is the perfect talk with you.\n",
    "> We will speak about processes, named pipes, fork and exec, inodes, and signals, among others, all whilst seeing how to play with these through the APIs that the Python standard library offers us."
   ]
  },
  {
   "cell_type": "markdown",
   "id": "f107cb30-ff55-4a01-ba06-90797ac605fa",
   "metadata": {},
   "source": [
    "- some useful built-in modules\n",
    "    - `filecmp`: for comparing files"
   ]
  },
  {
   "cell_type": "markdown",
   "id": "f37f6d84-28c5-4d93-b7ad-06b2e1e3501b",
   "metadata": {},
   "source": [
    "- `os.fork()` forks the current process\n",
    "    - Linux uses \"copy-on-write\" so the entire environment is not duplicated, only if the object is modified\n",
    "    - interesting related function `os.register_at_fork()` to register commands on forking\n",
    "- `os.execvp()` to run a command\n",
    "    - *replaces* the current process\n",
    "    - any instructions afterwards are not run because the original process has been replaced"
   ]
  },
  {
   "cell_type": "markdown",
   "id": "af9d07e7-5caf-44f8-a0cf-0a96d5c28671",
   "metadata": {},
   "source": [
    "- `locale` module\n",
    "    - get information about user location\n",
    "- `time` module\n",
    "    - the time is provided by the OS in Python\n",
    "    - the `datetime` module uses `time`, too\n",
    "- `signal` module\n",
    "    - kill a process `os.kill(PID, signal.SIGUSR1)`\n",
    "    - can send signals to other processes\n",
    "    - can register handlers for signals recieved by the process\n",
    "- named pipes: inter-process communication\n",
    "    - unidirectional\n",
    "- Unix domain sockets\n",
    "    - bi-directional channel\n",
    "    - is kind of like a file that two processes can read and write to for communication\n",
    "    - can make a socket and hand it to the parent and child when forking a process\n",
    "- `memray`: a new profiler from Bloomberg"
   ]
  },
  {
   "cell_type": "markdown",
   "id": "f82c63bc-38fb-4b2a-b108-4cf0d902cab9",
   "metadata": {
    "tags": []
   },
   "source": [
    "## Building a Binary Extension\n",
    "\n",
    "presenter: Henry Fredrick Schreiner III  \n",
    "link: https://us.pycon.org/2022/schedule/presentation/57/  \n",
    "\n",
    "> Support for binary extensions is an exceptional advantage of Python that is\n",
    "too often avoided for smaller packages with low developer resources.\n",
    "> Binary extensions are used to achieve high performance for libraries like PyTorch, MyPy, and many thousands more.\n",
    "> Binary extensions also allow access to a wealth\n",
    "of existing compiled libraries.\n",
    "> Building your own binary extension is plagued by historically poor documentation, bad common practices, and many misconceptions.\n",
    "> But it is actually easy to write extensions today that work seamlessly on all common developer platforms using modern libraries and continuous integration.\n",
    "> \n",
    "> We will take a look at packaging a binary extension from start to finish.\n",
    "> This starts with `pybind11` for C++ bindings, providing simple, header only builds and avoiding the need for a new language or pre-processor step.\n",
    "> We will look at `scikit-build` for building, providing powerful `CMake` based builds with library search, multithreaded builds, and more. We will use PyPA's `build` to produce SDists.\n",
    "> And we will use PyPA's `cibuildwheel` to produce binaries for all common platforms with minimal setup and simple CI code in GitHub Actions (but trivially movable to any other CI system).\n",
    "> We will talk about how to automate common tasks, like using GitHub's Dependabot to keep `cibuildwheel` up-to-date while also ensuring reproducible builds.\n",
    "> \n",
    "> After this talk, it is our hope that you will no longer shy away from using compiled code in libraries, but will feel comfortable writing extensions to accelerate or advance your libraries functionality."
   ]
  },
  {
   "cell_type": "markdown",
   "id": "67633ab5-a8f0-408d-a8de-932117d761ac",
   "metadata": {},
   "source": [
    "- can achieve better performance for an algorithm with compiled packages\n",
    "    - keep \"driver\" code in Python and then move heavier, longer-running code to another language\n",
    "    - a good solution is Numba, worth trying first\n",
    "    - other implementations of Python may provide speed-ups\n",
    "    - pre-compiling (presented here) is another option\n",
    "- what is a binary extension:\n",
    "    - compiled code in a 3rd party library\n",
    "    - can write parts of the code in C, C++, Rust, etc.\n",
    "    - need to pre-compile for each OS distribution\n",
    "- divide process into 3 stages (tool to use):\n",
    "    1. write code in a compiled language (pybind11)\n",
    "    1. use a build system to make the binary (scikit-build)\n",
    "    1. build a wheel (cibuildwheel)\n",
    "- `nanobind`: recent substitute for `pybind11`\n",
    "    - written by same author\n",
    "    - requires for recent versions of Python and C++\n",
    "- build systems – `scikit-build`\n",
    "    - currently wraps `setuptools`/`disutils`\n",
    "    - built by the team behind `CMake` to use `CMake` within Python\n",
    "- `cibuildwheel` for building wheels for different OS\n",
    "    - can run locally and on CI providers"
   ]
  },
  {
   "cell_type": "markdown",
   "id": "6cc83be5-860b-408e-98b1-ba687d015c54",
   "metadata": {
    "tags": []
   },
   "source": [
    "## Understanding Attributes\n",
    "\n",
    "presenter: Reuven M. Lerner  \n",
    "link: https://us.pycon.org/2022/schedule/presentation/22/  \n",
    "\n",
    "> Attributes in Python, which we use dozens of times each day, seem boring, obvious, and not worthy of attention.\n",
    "> But it turns out that they're key to the Python language: Every time you say `a.b` in Python, that little dot is hiding a lot of work, from searching across multiple objects to silently rewriting things.\n",
    "And it turns out that what happens with attributes, while not always obvious to developers, determines a great deal of behavior in the Python language.\n",
    "> \n",
    "> In this talk, I'll discuss what attributes are (and aren't), what Python does when you use a dot (`.`) in your code, and how you can take advantage of it.\n",
    "> We'll talk about attribute lookup, about inheritance, and about methods vs. functions.\n",
    "> We'll also look into properties, and how they allow us to have attributes that look like data but behave like `setters` and `getters`.\n",
    "> Finally, we'll look at the descriptor protocol, which makes so much of Python's functionality possible, including the automatic insertion of \"self\" as the first argument in method calls."
   ]
  },
  {
   "cell_type": "markdown",
   "id": "f6fa136b-c809-47dd-bad2-b7d98cbcf6e9",
   "metadata": {},
   "source": [
    "- class attributes do work, but are an **anti-pattern**\n",
    "    - classes are objects and any object can be assigned an attribute"
   ]
  },
  {
   "cell_type": "code",
   "execution_count": 10,
   "id": "741531c7-2685-44c3-8a21-3b4b44b3cfec",
   "metadata": {},
   "outputs": [],
   "source": [
    "class Person:\n",
    "    def __init__(self, name: str) -> None:\n",
    "        self.name = name\n",
    "        Person.population += 1\n",
    "        return None\n",
    "\n",
    "\n",
    "Person.population = 0"
   ]
  },
  {
   "cell_type": "code",
   "execution_count": 11,
   "id": "77f5f35d-b4cd-44a7-94dc-6ce24efbe912",
   "metadata": {},
   "outputs": [
    {
     "data": {
      "text/plain": [
       "1"
      ]
     },
     "execution_count": 11,
     "metadata": {},
     "output_type": "execute_result"
    }
   ],
   "source": [
    "joe = Person(\"Joe\")\n",
    "Person.population"
   ]
  },
  {
   "cell_type": "code",
   "execution_count": 12,
   "id": "c37884dc-bc61-4b36-b422-81e69033410f",
   "metadata": {},
   "outputs": [
    {
     "data": {
      "text/plain": [
       "2"
      ]
     },
     "execution_count": 12,
     "metadata": {},
     "output_type": "execute_result"
    }
   ],
   "source": [
    "suzy = Person(\"Suzy\")\n",
    "Person.population"
   ]
  },
  {
   "cell_type": "markdown",
   "id": "5c3c77c4-7f3c-4fde-8f11-c318aecde304",
   "metadata": {},
   "source": [
    "- Python does not use shared attributes\n",
    "    - referred to as \"static variables\" in C (and in Swift, I think)"
   ]
  },
  {
   "cell_type": "markdown",
   "id": "30dacbdf-f6b0-4cb1-bd94-b4addbb6e6e5",
   "metadata": {},
   "source": [
    "- side-note: interesting function `functools.partial()`"
   ]
  },
  {
   "cell_type": "code",
   "execution_count": 13,
   "id": "156b815c-7668-4c9d-87ac-0ea0df133968",
   "metadata": {},
   "outputs": [
    {
     "data": {
      "text/plain": [
       "5"
      ]
     },
     "execution_count": 13,
     "metadata": {},
     "output_type": "execute_result"
    }
   ],
   "source": [
    "def add(a, b):\n",
    "    return a + b\n",
    "\n",
    "\n",
    "add(2, 3)"
   ]
  },
  {
   "cell_type": "code",
   "execution_count": 14,
   "id": "9bd0341f-0ce8-472c-9509-dde405c6759c",
   "metadata": {},
   "outputs": [
    {
     "data": {
      "text/plain": [
       "15"
      ]
     },
     "execution_count": 14,
     "metadata": {},
     "output_type": "execute_result"
    }
   ],
   "source": [
    "from functools import partial\n",
    "\n",
    "add5 = partial(add, 5)\n",
    "add5(10)"
   ]
  },
  {
   "cell_type": "markdown",
   "id": "a68287d6-1e9a-4a1d-a1f8-682951f94079",
   "metadata": {
    "tags": []
   },
   "source": [
    "## Distributed web scraping in Python\n",
    "\n",
    "presenter: Josh Weissbock  \n",
    "link: https://us.pycon.org/2022/schedule/presentation/48/\n",
    "\n",
    "> Web scraping is easy to do in Python, but it quickly becomes tedious when routinely running large batch scraping jobs.\n",
    "> This talk looks at how to build a distributed web scraper to reduce batch scraping job times and improve durability of your code as well as lessons learned & stories along the way."
   ]
  },
  {
   "cell_type": "markdown",
   "id": "6872879a-f437-4b54-b560-d505806b765a",
   "metadata": {},
   "source": [
    "### Intro\n",
    "\n",
    "- steps of data science project\n",
    "    1. collect\n",
    "    1. store data\n",
    "    1. clean data\n",
    "    1. prepare data\n",
    "    1. analysis and model data\n",
    "- web scraping: act of extracting data from a website and processing and storing it\n",
    "    - distributed: over multiple computers\n",
    "\n",
    "### Building a distributed scraper\n",
    "\n",
    "- intermediate improvements\n",
    "    - introduce a middle proxy layer (to fool bots)\n",
    "    - add headers to make it look like there are different requests from real humans\n",
    "    - delays between requests from the same computer\n",
    "    - use Selenium as a headless browser so dynamic websites will run their Javascript\n",
    "    - try-until-success to avoid missing URLs that fail\n",
    "    - basic tracking of successes and failures\n",
    "- make the system distributed\n",
    "    - controller to make a list of work\n",
    "    - manages a work queue\n",
    "    - distribute the jobs to workers/scraper nodes\n",
    "        - no longer need to use proxies now because each job is run on a separate computer\n",
    "- queues: `pika`, `puka`, and `celery` are worth looking into\n",
    "\n",
    "### Code management\n",
    "\n",
    "- automatic pulling most recent code version\n",
    "\n",
    "### Helpful Python packages\n",
    "\n",
    "- rquests, beautfiulsoup, selenium\n",
    "- `rety` and `backoff-retry`: retrying of failing functions\n",
    "- `requests-cache`: auto cache request results\n",
    "    - good for dev\n",
    "- `fake-useragent`: add header to `requests.get()` based off of real headers stored in a date base\n",
    "\n",
    "### Considerations\n",
    "\n",
    "- full automation\n",
    "- alerts (emails) from distributed system"
   ]
  },
  {
   "cell_type": "markdown",
   "id": "4e89f3e6-2ee7-41c7-9009-1d7c421d90f2",
   "metadata": {
    "tags": []
   },
   "source": [
    "## Dock your Jupyter Notebook\n",
    "\n",
    "presenter: Nir Barazida  \n",
    "link: https://us.pycon.org/2022/schedule/presentation/15/\n",
    "\n",
    "> To perfect your Jupyter Notebook craft, you'd want to make your work reproducible and shareable outside your local machine.\n",
    "> In this talk, we will learn how to use Docker to build an isolated and pre-defined environment suited for ML project that runs smoothly on a remote machine."
   ]
  },
  {
   "cell_type": "markdown",
   "id": "aa79fc0d-3b5e-4e5b-9711-a87c1156b5ad",
   "metadata": {},
   "source": [
    "(works for DagsHub: \"the GitHub for ML\")\n",
    "\n",
    "### Docker for ML\n",
    "\n",
    "- reproducibility and portability\n",
    "    - e.g. moving from local to remote machines/compute cluster\n",
    "    - makes moving from dev/research to production easier\n",
    "\n",
    "### Docker\n",
    "\n",
    "- main components of a Docker container:\n",
    "    1. Dockerfile: commands to be called to generate the Docker image\n",
    "    1. image: a file that contains files and dependencies\n",
    "    1. container: a single instance of the application that is alive and running\n",
    "- can get images from registries to be used in our project\n",
    "    - popular registry is DockerHub\n",
    "    \n",
    "### Dockerfile\n",
    "\n",
    "- build on top of existing Docker images\n",
    "    - helpful to search DockerHub to find images with desired environment already setup\n",
    "- install dependencies\n",
    "\n",
    "```docker\n",
    "# Dockerfile\n",
    "FROM jupyter/scipy-notebook:latest  # using a pre-built image\n",
    "\n",
    "RUN git clone https//:www.my-repo.github \\\n",
    "    && cd project-dir \\\n",
    "    && pip install -r requirements \\\n",
    "    && ...\n",
    "    \n",
    "...\n",
    "    \n",
    "CMD jupyter lab\n",
    "```\n",
    "\n",
    "- other useful comamnds:\n",
    "    - `ENV`: sent env vars\n",
    "    - `COPY`: copy files from the local OS into the Docker image\n",
    "    - `MAINTAINER`: indicates maintinaer of the image\n",
    "    - `CMD`: final command to run at the end of the file\n",
    "    \n",
    "```bash\n",
    "docker build --pull -t name:tag dockerfile\n",
    "# name: name of the project\n",
    "# tag: specific tag for this container\n",
    "```\n",
    "\n",
    "- to run the image and create a container:\n",
    "\n",
    "```bash\n",
    "docker run ...\n",
    "```\n",
    "- have done some work on the project and now want to commit and push my changes:\n",
    "    - SSH into the Docker container\n",
    "\n",
    "```bash\n",
    "docker exec -it <container ID> /bin/bash\n",
    "```"
   ]
  },
  {
   "cell_type": "code",
   "execution_count": null,
   "id": "38a5743f-df8d-4060-83c7-4db3818d31a6",
   "metadata": {},
   "outputs": [],
   "source": []
  },
  {
   "cell_type": "code",
   "execution_count": null,
   "id": "f56977b4-0083-4485-98a4-11d53f23b3a5",
   "metadata": {},
   "outputs": [],
   "source": []
  },
  {
   "cell_type": "code",
   "execution_count": null,
   "id": "6170dfd7-2149-4305-987d-7d39eb747073",
   "metadata": {},
   "outputs": [],
   "source": []
  },
  {
   "cell_type": "markdown",
   "id": "68b240d8-5a69-4853-be46-47df5ae6f16d",
   "metadata": {
    "tags": []
   },
   "source": [
    "## Implementing Shared Functionality using Middleware\n",
    "\n",
    "presenter: Amit Saha  \n",
    "link: https://us.pycon.org/2022/schedule/presentation/6/\n",
    "\n",
    "> In this talk, I will provide an introduction to the topic of writing middleware for your web applications.\n",
    "> Middleware is often simply brought in to an application's code base, without perhaps a thorough understanding of how they work.\n",
    "> This talk will shed light on how middleware components work in popular Python web frameworks - Flask, Django and FastAPI.\n",
    "> \n",
    "> Armed with that understanding, you will learn how to write your own middleware as well as use standard community contributed middleware to implement vital functionality in your applications."
   ]
  },
  {
   "cell_type": "markdown",
   "id": "3e8f63e5-6c20-449c-bdee-174620fe7544",
   "metadata": {},
   "source": [
    "- *middleware*:\n",
    "    - the \"-\" in \"client-server\" or the \"-to-\" in \"peer-to-peer\"\n",
    "    - \"glue\" in an application\n",
    "    \n",
    "### Flask\n",
    "\n",
    "- exmaple of adding middleware in Flask\n",
    "    - order of handlers declaration matters\n",
    "\n",
    "```python\n",
    "bp = BluePrint(...) # some other Flask stuff\n",
    "\n",
    "@bp.before_request\n",
    "def before_request_handler_1():\n",
    "    ...\n",
    "    \n",
    "@bp.before_request\n",
    "def before_request_handler_2():\n",
    "    ...\n",
    "\n",
    "@bp.after_request\n",
    "def after_request_handler_2():\n",
    "    ...\n",
    "\n",
    "@bp.after_request\n",
    "def after_request_handler_1():\n",
    "    ...\n",
    "```\n",
    "\n",
    "- example use:\n",
    "    - measure page rendering time"
   ]
  },
  {
   "cell_type": "markdown",
   "id": "71674f09-307d-4a0e-bd1b-e384aebb7d51",
   "metadata": {},
   "source": [
    "### Django\n",
    "\n",
    "- have option to do a class-based or function-passed handler\n",
    "\n",
    "```python\n",
    "# class-based\n",
    "class ExecHandlingMiddleware:\n",
    "    \n",
    "    def __int__(self, get_response):\n",
    "        self.get_response = get_response\n",
    "    \n",
    "    def __call__(self, request):\n",
    "        ...\n",
    "```\n",
    "\n",
    "```python\n",
    "# function-based\n",
    "def latency_reporter(get_response):\n",
    "    \n",
    "    def middleware(request):\n",
    "        ...\n",
    "    \n",
    "    return middleware\n",
    "```\n",
    "\n",
    "Then add to `setup.py`:\n",
    "\n",
    "```python\n",
    "# setup.py (this may be wrong)\n",
    "HANLDERS = [\n",
    "    \"path.to.handler_function1\",\n",
    "    \"path.to.handler_function2\",\n",
    "]\n",
    "```"
   ]
  },
  {
   "cell_type": "markdown",
   "id": "eeea39f8-e1f1-41f6-9c43-81351a759b06",
   "metadata": {},
   "source": [
    "- want to create middleware in a framework-agnositc way\n",
    "    - can apply to Django, Flask, or any other WSGI framework"
   ]
  },
  {
   "cell_type": "markdown",
   "id": "9751cf28-945e-41c6-a7e2-c4bb56096049",
   "metadata": {},
   "source": [
    "### FastAPI\n",
    "\n",
    "- implement an \"ASGI\" middleware because it is asynchronous\n",
    "\n",
    "```python\n",
    "app = FastAPI()\n",
    "app.add_middleware(MiddlewareHandlerClass)\n",
    "...\n",
    "```\n",
    "\n",
    "- can implement a WSGI middleware inside of a FastAPI ASGI app"
   ]
  },
  {
   "cell_type": "markdown",
   "id": "0920e9cf-dd80-491c-8c20-4304ca9d2b91",
   "metadata": {
    "tags": []
   },
   "source": [
    "## How We Migrated 3.8 Million Lines of Python 2 Without Interrupting Development\n",
    "\n",
    "presenter: Benjamin Bariteau  \n",
    "link: https://us.pycon.org/2022/schedule/presentation/81/ \n",
    "\n",
    "> Migrating from python 2 to python 3 is not very easy, but it can be exacerbated by needing to port a large codebase modified frequently by many different developers.\n",
    "> Our codebase was nearly 4 million lines of code modified dozens of times a day by hundreds of total developers.\n",
    "> It is also business critical, containing a large portion of our most important code and data.\n",
    "> We used several tools, techniques, and patterns to achieve the migration without disrupting day-to-day development and keeping regressions a minimum.\n",
    "> In this talk, we’ll detail our migration steps, our usage of pre-commit hooks to reduce regressions to fixes, our usage of a reverse proxy to allow granular, low risk rollout for a webapp, and our migration of pickle to rollforward safe json for caching."
   ]
  },
  {
   "cell_type": "markdown",
   "id": "065575c9-ee74-4f38-9143-c8881e49a552",
   "metadata": {},
   "source": [
    "- multiple stages\n",
    "    1. parsability\n",
    "        - tried to parse files\n",
    "        - fairly easy to fix - took about 2 weeks\n",
    "    1. importablity\n",
    "        - import all files and fix failures\n",
    "        - took about 1 month\n",
    "    1. functional parity\n",
    "        - (took the longest)\n",
    "        - run test suite\n",
    "        - group failing tests by root cause and address\n",
    "    1. rollout\n",
    "- `python-modernize`: make Python2 code compatible with Python2 *and* 3\n",
    "    - uses `lib2to3` package\n",
    "    - other packages use the `future` module or the `six` library\n",
    "- common syntacic changes:\n",
    "    - change to import names\n",
    "    - dictionary `.values()`, etc. now return generators\n",
    "    - change in syntax for `raise`\n",
    "- used `pre-commit` to ensure compatability with new/modified code\n",
    "    - (also included `black` hook)\n",
    "- misc:\n",
    "    - a lot of the major breaks in the \"funational parity\" step were related to strings\n",
    "        - not parsed so don't throw obvious errors\n",
    "    - stopped caching with pickle, switched to JSON files\n",
    "        - made the switch overtime so that it didn't interrupt performance\n",
    "- rollout\n",
    "    - maintained python2 and 3 virtualenv\n",
    "    - separate URL prefixes to decide which PYthon to use\n",
    "    - enabling rolling out pieces of the code base piece by piece and rolling back parts that had bugs\n",
    "- outcomes\n",
    "    - presenter claims: \"type annotations would have been useful\"\n",
    "    - 15-20% speedup and 26% less RAM\n",
    "        - were not the original goals, but side-effects of maintain existing code and using modern tools"
   ]
  },
  {
   "cell_type": "markdown",
   "id": "2286c0b3-dc11-4804-8a1f-d6d9143a95b8",
   "metadata": {},
   "source": [
    "---"
   ]
  },
  {
   "cell_type": "code",
   "execution_count": 15,
   "id": "46d96d0c-bcf1-438a-9856-5b1d5b33d9d8",
   "metadata": {},
   "outputs": [
    {
     "name": "stdout",
     "output_type": "stream",
     "text": [
      "Last updated: 2022-04-29\n",
      "\n",
      "Python implementation: CPython\n",
      "Python version       : 3.10.4\n",
      "IPython version      : 8.2.0\n",
      "\n",
      "Compiler    : Clang 12.0.1 \n",
      "OS          : Darwin\n",
      "Release     : 21.4.0\n",
      "Machine     : x86_64\n",
      "Processor   : i386\n",
      "CPU cores   : 4\n",
      "Architecture: 64bit\n",
      "\n",
      "Hostname: JHCookMac.local\n",
      "\n",
      "Git branch: pycon2022\n",
      "\n"
     ]
    }
   ],
   "source": [
    "%load_ext watermark\n",
    "%watermark -d -u -v -iv -b -h -m"
   ]
  },
  {
   "cell_type": "code",
   "execution_count": null,
   "id": "8d1e9cc7-3ba4-478b-95b8-10f0601add27",
   "metadata": {},
   "outputs": [],
   "source": []
  }
 ],
 "metadata": {
  "kernelspec": {
   "display_name": "Python 3 (ipykernel)",
   "language": "python",
   "name": "python3"
  },
  "language_info": {
   "codemirror_mode": {
    "name": "ipython",
    "version": 3
   },
   "file_extension": ".py",
   "mimetype": "text/x-python",
   "name": "python",
   "nbconvert_exporter": "python",
   "pygments_lexer": "ipython3",
   "version": "3.10.4"
  }
 },
 "nbformat": 4,
 "nbformat_minor": 5
}
